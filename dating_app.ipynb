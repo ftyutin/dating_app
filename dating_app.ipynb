{
 "cells": [
  {
   "cell_type": "markdown",
   "metadata": {},
   "source": [
    "#### Выбор метрик\n",
    "\n",
    "Для принятия решения буду ориентироваться на несколько метрик.\n",
    "\n",
    "**Целевая метрика:**  \n",
    "* частота исходов значений в колонке is_match для каждой группы, соотношение данных значений  \n",
    "\n",
    "**Прокси метрика:**  \n",
    "* среднее количество активностей на пользователя  \n",
    "\n",
    "**Группа 0 (контрольная группа)** — приложение со старым алгоритмом  \n",
    "**Группа 1 (экспериментальная группа)** —  приложение с новым алгоритмом"
   ]
  },
  {
   "cell_type": "markdown",
   "metadata": {},
   "source": [
    "### Проведу EDA\n",
    "Импортирую необходимые для работы библиотеки, считаю данные, сформирую датафреймы"
   ]
  },
  {
   "cell_type": "code",
   "execution_count": 1,
   "metadata": {},
   "outputs": [],
   "source": [
    "import pandas as pd\n",
    "import numpy as np\n",
    "import scipy.stats as stats\n",
    "import matplotlib.pyplot as plt\n",
    "import pingouin as pg\n",
    "import seaborn as sns"
   ]
  },
  {
   "cell_type": "markdown",
   "metadata": {},
   "source": [
    "##### dating_data_df — хранит логи взаимодействия пользователей друг с другом  \n",
    "- **user_id_1**\t— уникальный id пользователя 1;  \n",
    "- **user_id_2** — уникальный id пользователя 2;  \n",
    "- **group** — номер группы к которой относятся пользователи;\n",
    "- **is_match** — хранит значение о том случился ли мэтч у пользователей (0 — мэтч не случился, 1 — мэтч случился)."
   ]
  },
  {
   "cell_type": "code",
   "execution_count": 2,
   "metadata": {},
   "outputs": [],
   "source": [
    "dating_data_df = pd.read_csv(\"./data/dating_data.csv\")"
   ]
  },
  {
   "cell_type": "code",
   "execution_count": 3,
   "metadata": {},
   "outputs": [
    {
     "name": "stdout",
     "output_type": "stream",
     "text": [
      "   user_id_1  user_id_2  group  is_match\n",
      "0         79         91      1         1\n",
      "1        716        353      1         1\n",
      "2        423        677      0         0\n",
      "3        658        165      1         1\n",
      "4        969        155      0         1\n",
      "\n",
      "\u001b[1mdating_data_df состоит из 4 колонок и 14514 строк \u001b[0m\n"
     ]
    }
   ],
   "source": [
    "# Посмотрю на первые 5 строк DF\n",
    "print(dating_data_df.head())\n",
    "print()\n",
    "print(f'\\033[1mdating_data_df состоит из {dating_data_df.shape[1]} колонок и {dating_data_df.shape[0]} строк \\033[0m')"
   ]
  },
  {
   "cell_type": "code",
   "execution_count": 4,
   "metadata": {},
   "outputs": [
    {
     "name": "stdout",
     "output_type": "stream",
     "text": [
      "<class 'pandas.core.frame.DataFrame'>\n",
      "RangeIndex: 14514 entries, 0 to 14513\n",
      "Data columns (total 4 columns):\n",
      " #   Column     Non-Null Count  Dtype\n",
      "---  ------     --------------  -----\n",
      " 0   user_id_1  14514 non-null  int64\n",
      " 1   user_id_2  14514 non-null  int64\n",
      " 2   group      14514 non-null  int64\n",
      " 3   is_match   14514 non-null  int64\n",
      "dtypes: int64(4)\n",
      "memory usage: 453.7 KB\n",
      "\n",
      "\u001b[1mВсе колонки имеют корректный тип данных \u001b[0m\n"
     ]
    }
   ],
   "source": [
    "# Посмотрю на тип данных\n",
    "dating_data_df.info()\n",
    "print()\n",
    "print('\\033[1mВсе колонки имеют корректный тип данных \\033[0m')"
   ]
  },
  {
   "cell_type": "code",
   "execution_count": 5,
   "metadata": {},
   "outputs": [
    {
     "name": "stdout",
     "output_type": "stream",
     "text": [
      "\u001b[1mПропущенные значения отсутствуют \u001b[0m\n"
     ]
    }
   ],
   "source": [
    "# Посмотрю есть ли пропущенные значения в таблице\n",
    "number_of_passes = dating_data_df.isnull().sum().sum()\n",
    "\n",
    "if number_of_passes == 0:\n",
    "    print('\\033[1mПропущенные значения отсутствуют \\033[0m')\n",
    "else:\n",
    "    print('\\033[1mПрисутствуют пропущенные значения! \\033[0m')\n",
    "    print(dating_data_df.isnull().sum())"
   ]
  },
  {
   "cell_type": "code",
   "execution_count": 6,
   "metadata": {},
   "outputs": [
    {
     "name": "stdout",
     "output_type": "stream",
     "text": [
      "\u001b[1mКоличество дублирующихся строк: 0 \u001b[0m\n"
     ]
    }
   ],
   "source": [
    "# Проверю строки датафрейма на дубли\n",
    "num_duplicates = dating_data_df.duplicated().sum()\n",
    "print(f\"\\033[1mКоличество дублирующихся строк: {num_duplicates} \\033[0m\")"
   ]
  },
  {
   "cell_type": "code",
   "execution_count": 7,
   "metadata": {},
   "outputs": [
    {
     "name": "stdout",
     "output_type": "stream",
     "text": [
      "\u001b[1mСтроки в которых user_id_1 совпадает с user_id_2 не найдены\u001b[0m\n"
     ]
    }
   ],
   "source": [
    "# Проверю, что в данных нет такой ситуации, когда user_id_1 == user_id_2. Если есть, то выведу строки df с пересекающимися user_id\n",
    "intersection = dating_data_df.user_id_1 == dating_data_df.user_id_2\n",
    "\n",
    "if (dating_data_df.user_id_1 == dating_data_df.user_id_2).isin([True]).any():\n",
    "    print('\\033[1mНайдены строки в которых user_id_1 совпадает с user_id_2!\\033[0m')\n",
    "    print(dating_data_df[intersection])\n",
    "else:\n",
    "    print('\\033[1mСтроки в которых user_id_1 совпадает с user_id_2 не найдены\\033[0m')"
   ]
  },
  {
   "cell_type": "code",
   "execution_count": 8,
   "metadata": {},
   "outputs": [
    {
     "name": "stdout",
     "output_type": "stream",
     "text": [
      "\u001b[1mВсе пользователи состоят только в одной группе\u001b[0m\n"
     ]
    }
   ],
   "source": [
    "# Посмотрю есть ли пользователи, которые относятся больше чем к одной группе\n",
    "# Создам датафреймы в которых будут храниться сгруппированные значения колонок user_id_1 и user_id_2 со списоками уникальных номеров групп каждого пользователя\n",
    "df_1 = dating_data_df.groupby(['user_id_1'], as_index=False) \\\n",
    "                     .agg({'group':'unique'})\n",
    "df_2 = dating_data_df.groupby(['user_id_2'], as_index=False) \\\n",
    "                     .agg({'group':'unique'})\n",
    "\n",
    "# Объединю df используя параметр how='outer'\n",
    "df_merge = pd.merge(df_1, df_2, left_on=['user_id_1'], right_on=['user_id_2'], how='outer', suffixes=('_df1', '_df2'))\n",
    "\n",
    "# Для тех значений у которых не нашлось пары при объединении, заменю NaN значения на значения из колонки другой группы\n",
    "df_merge['group_df1'].fillna(df_merge['group_df2'], inplace=True)\n",
    "df_merge['group_df2'].fillna(df_merge['group_df1'], inplace=True)\n",
    "df_merge['user_id_1'].fillna(df_merge['user_id_2'], inplace=True)\n",
    "df_merge['user_id_2'].fillna(df_merge['user_id_1'], inplace=True)\n",
    "\n",
    "# Поменяю тип данных в колонке\n",
    "df_merge['user_id_1'] = df_merge.loc[:, ['user_id_1']].astype(int)\n",
    "\n",
    "# Выведу только нужные колонки, переименую колонку user_id_1\n",
    "df_merge = df_merge.loc[:, ['user_id_1', 'group_df1', 'group_df2']].rename(columns=({'user_id_1':'user_id'}))\n",
    "\n",
    "# Создам булеву маску для df_1 и df_2. True - в списке групп пользователя больше одной группы\n",
    "mask_df1 = df_merge['group_df1'].map(lambda x: len(x) > 1)\n",
    "mask_df2 = df_merge['group_df2'].map(lambda x: len(x) > 1)\n",
    "\n",
    "# Если количество значеий в списке групп пользователя (group_df1 или group_df2) больше чем 1, то вывести True\n",
    "mask_result = (mask_df1 | mask_df2)\n",
    "\n",
    "if df_merge[mask_result].shape[0] == 0:\n",
    "    print(\"\\033[1mВсе пользователи состоят только в одной группе\\033[0m\")\n",
    "else:\n",
    "    print(\"\\033[1mЕсть пользователи, которые состоят в нескольких группах!\\033[0m\")\n",
    "    print(df_merge[mask_result])"
   ]
  },
  {
   "cell_type": "code",
   "execution_count": 9,
   "metadata": {},
   "outputs": [
    {
     "name": "stdout",
     "output_type": "stream",
     "text": [
      "  group  amount\n",
      "0     0     501\n",
      "1     1     499\n",
      "\n",
      "\u001b[1mРазница между группами небольшая 0.40 %, группы можно считать равными по количеству уникальных пользователей. \u001b[0m\n"
     ]
    }
   ],
   "source": [
    "# Посмотрю на количество уникальных пользователей в каждой группе\n",
    "number_user_id = df_merge[['user_id', 'group_df1']].explode('group_df1') \\\n",
    "                                                   .groupby(['group_df1'], as_index=False) \\\n",
    "                                                   .agg({'user_id': 'nunique'}) \\\n",
    "                                                   .rename(columns=({'user_id': 'amount', 'group_df1': 'group'}))\n",
    "\n",
    "delta_percent = (number_user_id['amount'].max() / number_user_id['amount'].min()) * 100 - 100\n",
    "print(number_user_id)\n",
    "print()\n",
    "print(f\"\\033[1mРазница между группами небольшая {delta_percent:.2f} %, группы можно считать равными по количеству уникальных пользователей. \\033[0m\")"
   ]
  },
  {
   "cell_type": "code",
   "execution_count": 10,
   "metadata": {},
   "outputs": [
    {
     "data": {
      "text/plain": [
       "(1000, 1000)"
      ]
     },
     "execution_count": 10,
     "metadata": {},
     "output_type": "execute_result"
    }
   ],
   "source": [
    "# Посмотрю на количество уникальных пользователей в user_id_1 и user_id_2\n",
    "user_id_1_uniq = dating_data_df.user_id_1.unique()\n",
    "user_id_2_uniq = dating_data_df.user_id_2.unique()\n",
    "len(user_id_1_uniq), len(user_id_2_uniq)"
   ]
  },
  {
   "cell_type": "code",
   "execution_count": 11,
   "metadata": {},
   "outputs": [
    {
     "name": "stdout",
     "output_type": "stream",
     "text": [
      "\u001b[1mМассивы равны. Из этого делаю вывод, что в колонках user_id_1 и user_id_2 находятся одни и те же пользователи из которых составлены пары (непересекающиеся сами с собой).\n",
      "Получается, что всего в эксперименте принимало участие 1000 пользователей.\u001b[0m\n"
     ]
    }
   ],
   "source": [
    "# Сравниваю элементы массивов\n",
    "if sorted(user_id_1_uniq) == sorted(user_id_2_uniq):\n",
    "    print('\\033[1mМассивы равны. Из этого делаю вывод, что в колонках user_id_1 и user_id_2 находятся одни и те же пользователи из которых составлены пары (непересекающиеся сами с собой).\\nПолучается, что всего в эксперименте принимало участие 1000 пользователей.\\033[0m')\n",
    "else:\n",
    "    print('\\033[1mМассивы неравны\\033[0m')"
   ]
  },
  {
   "cell_type": "code",
   "execution_count": 12,
   "metadata": {},
   "outputs": [
    {
     "data": {
      "text/html": [
       "<div>\n",
       "<style scoped>\n",
       "    .dataframe tbody tr th:only-of-type {\n",
       "        vertical-align: middle;\n",
       "    }\n",
       "\n",
       "    .dataframe tbody tr th {\n",
       "        vertical-align: top;\n",
       "    }\n",
       "\n",
       "    .dataframe thead th {\n",
       "        text-align: right;\n",
       "    }\n",
       "</style>\n",
       "<table border=\"1\" class=\"dataframe\">\n",
       "  <thead>\n",
       "    <tr style=\"text-align: right;\">\n",
       "      <th></th>\n",
       "      <th>user_id</th>\n",
       "      <th>is_match</th>\n",
       "      <th>group</th>\n",
       "    </tr>\n",
       "  </thead>\n",
       "  <tbody>\n",
       "    <tr>\n",
       "      <th>0</th>\n",
       "      <td>79</td>\n",
       "      <td>1</td>\n",
       "      <td>1</td>\n",
       "    </tr>\n",
       "    <tr>\n",
       "      <th>1</th>\n",
       "      <td>716</td>\n",
       "      <td>1</td>\n",
       "      <td>1</td>\n",
       "    </tr>\n",
       "    <tr>\n",
       "      <th>2</th>\n",
       "      <td>423</td>\n",
       "      <td>0</td>\n",
       "      <td>0</td>\n",
       "    </tr>\n",
       "    <tr>\n",
       "      <th>3</th>\n",
       "      <td>658</td>\n",
       "      <td>1</td>\n",
       "      <td>1</td>\n",
       "    </tr>\n",
       "    <tr>\n",
       "      <th>4</th>\n",
       "      <td>969</td>\n",
       "      <td>1</td>\n",
       "      <td>0</td>\n",
       "    </tr>\n",
       "  </tbody>\n",
       "</table>\n",
       "</div>"
      ],
      "text/plain": [
       "   user_id  is_match  group\n",
       "0       79         1      1\n",
       "1      716         1      1\n",
       "2      423         0      0\n",
       "3      658         1      1\n",
       "4      969         1      0"
      ]
     },
     "execution_count": 12,
     "metadata": {},
     "output_type": "execute_result"
    }
   ],
   "source": [
    "# Склею два df\n",
    "dating_data_df_user_1 = dating_data_df[['user_id_1', 'is_match', 'group']].rename(columns={'user_id_1': 'user_id'})\n",
    "dating_data_df_user_2 = dating_data_df[['user_id_2', 'is_match', 'group']].rename(columns={'user_id_2': 'user_id'})\n",
    "concat_df = pd.concat([dating_data_df_user_1, dating_data_df_user_2]).reset_index(drop=True)\n",
    "concat_df.head()"
   ]
  },
  {
   "cell_type": "code",
   "execution_count": 13,
   "metadata": {},
   "outputs": [
    {
     "name": "stdout",
     "output_type": "stream",
     "text": [
      "   user_id  group  activity_total  match_total  mismatch_total\n",
      "0        1      1              37           16              21\n",
      "1        2      1              39           16              23\n",
      "2        3      1              25            8              17\n",
      "3        4      0              17            3              14\n",
      "4        5      1              34           18              16\n",
      "\u001b[1m\n",
      "user_id — id пользователя\n",
      "group — группа пользователя\n",
      "activity_total — количество активностей\n",
      "match_total — количество мэтчей\n",
      "mismatch_total — количество несостоявшихся мэтчей\u001b[0m\n"
     ]
    }
   ],
   "source": [
    "# Посмотрю на количество активностей для каждого пользователя, к какой группе относится пользователь, количество состоявшихся и несостоявшихся мэтчей\n",
    "user_statistics_df = concat_df.groupby(['user_id', 'group'], as_index=False) \\\n",
    "                              .agg({'is_match': ['count', 'sum', lambda x: (x.count() - x.sum())]}) \\\n",
    "                              .rename(columns={'count': 'activity_total', 'sum': 'match_total', '<lambda_0>': 'mismatch_total'})\n",
    "# Удалю 0 уровень в имени колонок\n",
    "user_statistics_df.columns = user_statistics_df.columns.droplevel(0)\n",
    "# Переименую колонки\n",
    "user_statistics_df.columns = ['user_id', 'group', 'activity_total', 'match_total', 'mismatch_total']\n",
    "\n",
    "print(user_statistics_df.head())\n",
    "print('\\033[1m\\nuser_id — id пользователя\\ngroup — группа пользователя\\nactivity_total — количество активностей\\nmatch_total — количество мэтчей\\nmismatch_total — количество несостоявшихся мэтчей\\033[0m')"
   ]
  },
  {
   "cell_type": "code",
   "execution_count": 14,
   "metadata": {},
   "outputs": [
    {
     "data": {
      "text/html": [
       "<div>\n",
       "<style scoped>\n",
       "    .dataframe tbody tr th:only-of-type {\n",
       "        vertical-align: middle;\n",
       "    }\n",
       "\n",
       "    .dataframe tbody tr th {\n",
       "        vertical-align: top;\n",
       "    }\n",
       "\n",
       "    .dataframe thead th {\n",
       "        text-align: right;\n",
       "    }\n",
       "</style>\n",
       "<table border=\"1\" class=\"dataframe\">\n",
       "  <thead>\n",
       "    <tr style=\"text-align: right;\">\n",
       "      <th></th>\n",
       "      <th>group</th>\n",
       "      <th>activity_total_avg</th>\n",
       "      <th>match_total_avg</th>\n",
       "      <th>mismatch_total_avg</th>\n",
       "    </tr>\n",
       "  </thead>\n",
       "  <tbody>\n",
       "    <tr>\n",
       "      <th>0</th>\n",
       "      <td>0</td>\n",
       "      <td>19.13</td>\n",
       "      <td>3.73</td>\n",
       "      <td>15.4</td>\n",
       "    </tr>\n",
       "    <tr>\n",
       "      <th>1</th>\n",
       "      <td>1</td>\n",
       "      <td>38.97</td>\n",
       "      <td>15.67</td>\n",
       "      <td>23.3</td>\n",
       "    </tr>\n",
       "  </tbody>\n",
       "</table>\n",
       "</div>"
      ],
      "text/plain": [
       "   group  activity_total_avg  match_total_avg  mismatch_total_avg\n",
       "0      0               19.13             3.73                15.4\n",
       "1      1               38.97            15.67                23.3"
      ]
     },
     "execution_count": 14,
     "metadata": {},
     "output_type": "execute_result"
    }
   ],
   "source": [
    "# Статистика по средним значениям каждой группы\n",
    "group_statistics_avg_df = user_statistics_df.groupby(['group'], as_index=False) \\\n",
    "                                            .agg({'activity_total': 'mean', 'match_total': 'mean', 'mismatch_total': 'mean'}).round(2) \\\n",
    "                                            .rename(columns=({'activity_total': 'activity_total_avg', 'match_total': 'match_total_avg', 'mismatch_total': 'mismatch_total_avg'}))\n",
    "group_statistics_avg_df"
   ]
  },
  {
   "cell_type": "markdown",
   "metadata": {},
   "source": [
    "Если смотреть на соотношение значений в группах, то пулучаем следующее:  \n",
    "- для группы 0, соотношение **match_total_avg** к **mismatch_total_avg** составляет 24,2 %  \n",
    "- для группы 1, соотношение **match_total_avg** к **mismatch_total_avg** составляет 67,3 %\n",
    "\n",
    "Если смотреть на то, на сколько средние значения в группе 1 больше чем в группе 0, то получается следующее:\n",
    "- **activity_total_avg** больше на 103,7%\n",
    "- **match_total_avg** больше на 320,1%\n",
    "- **mismatch_total_avg** больше на 51,3%"
   ]
  },
  {
   "cell_type": "markdown",
   "metadata": {},
   "source": [
    "# Целевая метрика"
   ]
  },
  {
   "cell_type": "markdown",
   "metadata": {},
   "source": [
    "## Визуальная проверка"
   ]
  },
  {
   "cell_type": "markdown",
   "metadata": {},
   "source": [
    "### Таблица сопряженности (наблюдаемые/ожидаемые значения)"
   ]
  },
  {
   "cell_type": "code",
   "execution_count": 15,
   "metadata": {},
   "outputs": [],
   "source": [
    "# Для каждой группы посчитаю наблюдаемые значения, ожидаемые и статистику\n",
    "expected, observed, stat = pg.chi2_independence(concat_df, x='group', y='is_match', correction=False)"
   ]
  },
  {
   "cell_type": "code",
   "execution_count": 16,
   "metadata": {},
   "outputs": [
    {
     "data": {
      "text/html": [
       "<div>\n",
       "<style scoped>\n",
       "    .dataframe tbody tr th:only-of-type {\n",
       "        vertical-align: middle;\n",
       "    }\n",
       "\n",
       "    .dataframe tbody tr th {\n",
       "        vertical-align: top;\n",
       "    }\n",
       "\n",
       "    .dataframe thead th {\n",
       "        text-align: right;\n",
       "    }\n",
       "</style>\n",
       "<table border=\"1\" class=\"dataframe\">\n",
       "  <thead>\n",
       "    <tr style=\"text-align: right;\">\n",
       "      <th>is_match</th>\n",
       "      <th>0</th>\n",
       "      <th>1</th>\n",
       "    </tr>\n",
       "    <tr>\n",
       "      <th>group</th>\n",
       "      <th></th>\n",
       "      <th></th>\n",
       "    </tr>\n",
       "  </thead>\n",
       "  <tbody>\n",
       "    <tr>\n",
       "      <th>0</th>\n",
       "      <td>7716</td>\n",
       "      <td>1868</td>\n",
       "    </tr>\n",
       "    <tr>\n",
       "      <th>1</th>\n",
       "      <td>11626</td>\n",
       "      <td>7818</td>\n",
       "    </tr>\n",
       "  </tbody>\n",
       "</table>\n",
       "</div>"
      ],
      "text/plain": [
       "is_match      0     1\n",
       "group                \n",
       "0          7716  1868\n",
       "1         11626  7818"
      ]
     },
     "execution_count": 16,
     "metadata": {},
     "output_type": "execute_result"
    }
   ],
   "source": [
    "# Наблюдаемые значения\n",
    "observed"
   ]
  },
  {
   "cell_type": "code",
   "execution_count": 17,
   "metadata": {},
   "outputs": [
    {
     "data": {
      "text/html": [
       "<div>\n",
       "<style scoped>\n",
       "    .dataframe tbody tr th:only-of-type {\n",
       "        vertical-align: middle;\n",
       "    }\n",
       "\n",
       "    .dataframe tbody tr th {\n",
       "        vertical-align: top;\n",
       "    }\n",
       "\n",
       "    .dataframe thead th {\n",
       "        text-align: right;\n",
       "    }\n",
       "</style>\n",
       "<table border=\"1\" class=\"dataframe\">\n",
       "  <thead>\n",
       "    <tr style=\"text-align: right;\">\n",
       "      <th>is_match</th>\n",
       "      <th>0</th>\n",
       "      <th>1</th>\n",
       "    </tr>\n",
       "    <tr>\n",
       "      <th>group</th>\n",
       "      <th></th>\n",
       "      <th></th>\n",
       "    </tr>\n",
       "  </thead>\n",
       "  <tbody>\n",
       "    <tr>\n",
       "      <th>0</th>\n",
       "      <td>6386.031694</td>\n",
       "      <td>3197.968306</td>\n",
       "    </tr>\n",
       "    <tr>\n",
       "      <th>1</th>\n",
       "      <td>12955.968306</td>\n",
       "      <td>6488.031694</td>\n",
       "    </tr>\n",
       "  </tbody>\n",
       "</table>\n",
       "</div>"
      ],
      "text/plain": [
       "is_match             0            1\n",
       "group                              \n",
       "0          6386.031694  3197.968306\n",
       "1         12955.968306  6488.031694"
      ]
     },
     "execution_count": 17,
     "metadata": {},
     "output_type": "execute_result"
    }
   ],
   "source": [
    "# Ожидаемые значения\n",
    "expected"
   ]
  },
  {
   "cell_type": "markdown",
   "metadata": {},
   "source": [
    "### Гистограмма, соотношение несостоявшихся / состоявшихся мэтчей"
   ]
  },
  {
   "cell_type": "code",
   "execution_count": 18,
   "metadata": {},
   "outputs": [
    {
     "data": {
      "image/png": "[encoded data removed]",
      "text/plain": [
       "<Figure size 640x480 with 1 Axes>"
      ]
     },
     "metadata": {},
     "output_type": "display_data"
    },
    {
     "data": {
      "image/png": "[encoded data removed]",
      "text/plain": [
       "<Figure size 640x480 with 1 Axes>"
      ]
     },
     "metadata": {},
     "output_type": "display_data"
    }
   ],
   "source": [
    "# Соотношение мэтчей (несостоявшиеся / состоявшиеся)\n",
    "observed['total'] = observed[0] + observed[1]\n",
    "observed[[0, 1, 'total']].plot.bar()\n",
    "plt.title('Соотношение мэтчей (несостоявшиеся / состоявшиеся)')\n",
    "\n",
    "# Соотношение мэтчей в процентах (несостоявшиеся / состоявшиеся)\n",
    "observed['no'] = (observed[0] / observed['total']).mul(100).round(2)\n",
    "observed['yes'] = (observed[1] / observed['total']).mul(100).round(2)\n",
    "observed[['no', 'yes']].plot.bar()\n",
    "plt.ylabel('%')\n",
    "plt.title('Соотношение мэтчей (несостоявшиеся / состоявшиеся)')\n",
    "\n",
    "plt.show()"
   ]
  },
  {
   "cell_type": "markdown",
   "metadata": {},
   "source": [
    "### Вывод по визуальному анализу"
   ]
  },
  {
   "cell_type": "markdown",
   "metadata": {},
   "source": [
    "По таблице сопряжённости и графикам видно, что в экспериментальной группе соотношение состоявшихся мэтчей к несостоявшимся больше. При помощи статистических тестов определю статистически значимы эти различия или нет. Так как значения в колонке is_match это категориальная величина (0 и 1), то проверять значения на нормальность распределения не имеет смысла. Для проверки статистической значимости результатов воспользуюсь критерием хи-квадрат Пирсона."
   ]
  },
  {
   "cell_type": "markdown",
   "metadata": {},
   "source": [
    "## Хи-квадрат Пирсона\n",
    "**Тип данных:** качественный, бинарный  \n",
    "**Целевая метрика:** частота исходов значений в колонке is_match для каждой группы \n",
    "\n",
    "**<u>Определю гипотезы:</u>**  \n",
    "* H0 - между контрольной и экспериментальной группой нет никакой статистически значимой разницы в частоте исходов значений<br>\n",
    "* H1 - наблюдаемый эффект это результат внедрения в приложение нового алгоритма, разница статистически значима\n",
    "\n",
    "Проверяю значимость полученной статистики хи-квадрат с помощью таблицы критических значений.<br>\n",
    "Значение критической статистики для уровня значимости [0.05](https://math.semestr.ru/group/xixi.php#:~:text=5.0-,3.8,-0.0039) и степени свободы равной 1 = 3.8"
   ]
  },
  {
   "cell_type": "code",
   "execution_count": 19,
   "metadata": {},
   "outputs": [],
   "source": [
    "# Для простоты интерпретации добавляю колонку в которой сравнивается alpha (0.05) и p-value\n",
    "stat['p<alpha'] = stat['pval'] < 0.05"
   ]
  },
  {
   "cell_type": "code",
   "execution_count": 20,
   "metadata": {},
   "outputs": [
    {
     "data": {
      "text/html": [
       "<div>\n",
       "<style scoped>\n",
       "    .dataframe tbody tr th:only-of-type {\n",
       "        vertical-align: middle;\n",
       "    }\n",
       "\n",
       "    .dataframe tbody tr th {\n",
       "        vertical-align: top;\n",
       "    }\n",
       "\n",
       "    .dataframe thead th {\n",
       "        text-align: right;\n",
       "    }\n",
       "</style>\n",
       "<table border=\"1\" class=\"dataframe\">\n",
       "  <thead>\n",
       "    <tr style=\"text-align: right;\">\n",
       "      <th></th>\n",
       "      <th>test</th>\n",
       "      <th>lambda</th>\n",
       "      <th>chi2</th>\n",
       "      <th>dof</th>\n",
       "      <th>pval</th>\n",
       "      <th>cramer</th>\n",
       "      <th>power</th>\n",
       "      <th>p&lt;alpha</th>\n",
       "    </tr>\n",
       "  </thead>\n",
       "  <tbody>\n",
       "    <tr>\n",
       "      <th>0</th>\n",
       "      <td>pearson</td>\n",
       "      <td>1.000000</td>\n",
       "      <td>1239.240692</td>\n",
       "      <td>1.0</td>\n",
       "      <td>1.808487e-271</td>\n",
       "      <td>0.206619</td>\n",
       "      <td>1.0</td>\n",
       "      <td>True</td>\n",
       "    </tr>\n",
       "    <tr>\n",
       "      <th>1</th>\n",
       "      <td>cressie-read</td>\n",
       "      <td>0.666667</td>\n",
       "      <td>1259.033883</td>\n",
       "      <td>1.0</td>\n",
       "      <td>9.033232e-276</td>\n",
       "      <td>0.208262</td>\n",
       "      <td>1.0</td>\n",
       "      <td>True</td>\n",
       "    </tr>\n",
       "    <tr>\n",
       "      <th>2</th>\n",
       "      <td>log-likelihood</td>\n",
       "      <td>0.000000</td>\n",
       "      <td>1307.975970</td>\n",
       "      <td>1.0</td>\n",
       "      <td>2.088986e-286</td>\n",
       "      <td>0.212271</td>\n",
       "      <td>1.0</td>\n",
       "      <td>True</td>\n",
       "    </tr>\n",
       "    <tr>\n",
       "      <th>3</th>\n",
       "      <td>freeman-tukey</td>\n",
       "      <td>-0.500000</td>\n",
       "      <td>1354.034898</td>\n",
       "      <td>1.0</td>\n",
       "      <td>2.045798e-296</td>\n",
       "      <td>0.215976</td>\n",
       "      <td>1.0</td>\n",
       "      <td>True</td>\n",
       "    </tr>\n",
       "    <tr>\n",
       "      <th>4</th>\n",
       "      <td>mod-log-likelihood</td>\n",
       "      <td>-1.000000</td>\n",
       "      <td>1409.448665</td>\n",
       "      <td>1.0</td>\n",
       "      <td>1.858742e-308</td>\n",
       "      <td>0.220352</td>\n",
       "      <td>1.0</td>\n",
       "      <td>True</td>\n",
       "    </tr>\n",
       "    <tr>\n",
       "      <th>5</th>\n",
       "      <td>neyman</td>\n",
       "      <td>-2.000000</td>\n",
       "      <td>1554.535690</td>\n",
       "      <td>1.0</td>\n",
       "      <td>0.000000e+00</td>\n",
       "      <td>0.231415</td>\n",
       "      <td>1.0</td>\n",
       "      <td>True</td>\n",
       "    </tr>\n",
       "  </tbody>\n",
       "</table>\n",
       "</div>"
      ],
      "text/plain": [
       "                 test    lambda         chi2  dof           pval    cramer  \\\n",
       "0             pearson  1.000000  1239.240692  1.0  1.808487e-271  0.206619   \n",
       "1        cressie-read  0.666667  1259.033883  1.0  9.033232e-276  0.208262   \n",
       "2      log-likelihood  0.000000  1307.975970  1.0  2.088986e-286  0.212271   \n",
       "3       freeman-tukey -0.500000  1354.034898  1.0  2.045798e-296  0.215976   \n",
       "4  mod-log-likelihood -1.000000  1409.448665  1.0  1.858742e-308  0.220352   \n",
       "5              neyman -2.000000  1554.535690  1.0   0.000000e+00  0.231415   \n",
       "\n",
       "   power  p<alpha  \n",
       "0    1.0     True  \n",
       "1    1.0     True  \n",
       "2    1.0     True  \n",
       "3    1.0     True  \n",
       "4    1.0     True  \n",
       "5    1.0     True  "
      ]
     },
     "execution_count": 20,
     "metadata": {},
     "output_type": "execute_result"
    }
   ],
   "source": [
    "# Статистика\n",
    "stat"
   ]
  },
  {
   "cell_type": "markdown",
   "metadata": {},
   "source": [
    "### Вывод\n",
    "Критическое значение (3.8) < полученной статистики (1239.240692), p-value < 0.05. Это означает, что у меня не имеется достаточных оснований, что бы принять H0.  \n",
    "**Принимаю H1**, в частоте исходов значений из колонки **is_match** между группой 0 и 1 имеются статистически значимые различия."
   ]
  },
  {
   "cell_type": "markdown",
   "metadata": {},
   "source": [
    "# Прокси метрика"
   ]
  },
  {
   "cell_type": "markdown",
   "metadata": {},
   "source": [
    "## Визуальная проверка"
   ]
  },
  {
   "cell_type": "markdown",
   "metadata": {},
   "source": [
    "### Средняя активность в разрезе по пользователям в каждой группе"
   ]
  },
  {
   "cell_type": "code",
   "execution_count": 21,
   "metadata": {},
   "outputs": [
    {
     "name": "stdout",
     "output_type": "stream",
     "text": [
      "   group  activity_avg\n",
      "0      0     19.129741\n",
      "1      1     38.965932\n",
      "\n",
      "\u001b[1mЕсть различия. В экспериментальной группе среднее количество активностей на пользователя больше на 103.69 % \u001b[0m\n"
     ]
    }
   ],
   "source": [
    "activity_avg_df = user_statistics_df.groupby(['group'], as_index=False) \\\n",
    "                                    .agg({'activity_total': 'mean'}) \\\n",
    "                                    .rename(columns=({'activity_total': 'activity_avg'}))\n",
    "delta_percent = (activity_avg_df['activity_avg'].max() / activity_avg_df['activity_avg'].min()) * 100 - 100\n",
    "print(activity_avg_df)\n",
    "print()\n",
    "print(f\"\\033[1mЕсть различия. В экспериментальной группе среднее количество активностей на пользователя больше на {delta_percent:.2f} % \\033[0m\")"
   ]
  },
  {
   "cell_type": "markdown",
   "metadata": {},
   "source": [
    "### kdeplot, плотность распределения значений в каждой группе"
   ]
  },
  {
   "cell_type": "code",
   "execution_count": 22,
   "metadata": {},
   "outputs": [
    {
     "data": {
      "image/png": "[encoded data removed]",
      "text/plain": [
       "<Figure size 640x480 with 1 Axes>"
      ]
     },
     "metadata": {},
     "output_type": "display_data"
    }
   ],
   "source": [
    "sns.kdeplot(x='activity_total', data=user_statistics_df, hue='group', common_norm=False);\n",
    "plt.title(\"Kernel Density Function\");\n",
    "plt.show()"
   ]
  },
  {
   "cell_type": "markdown",
   "metadata": {},
   "source": [
    "### boxplot, распределение количества активностей на пользователя"
   ]
  },
  {
   "cell_type": "code",
   "execution_count": 23,
   "metadata": {},
   "outputs": [
    {
     "data": {
      "image/png": "[encoded data removed]",
      "text/plain": [
       "<Figure size 640x480 with 1 Axes>"
      ]
     },
     "metadata": {},
     "output_type": "display_data"
    },
    {
     "name": "stdout",
     "output_type": "stream",
     "text": [
      "\u001b[1mВидно, что в экспериментальной группе количество активностей на пользователя существенно больше чем в контрольной группе. \u001b[0m\n"
     ]
    }
   ],
   "source": [
    "# Разделю на отдельные группы\n",
    "data0 = user_statistics_df[user_statistics_df.group == 0]['activity_total'].values  # контрольная группа\n",
    "data1 = user_statistics_df[user_statistics_df.group == 1]['activity_total'].values  # экспериментальная группа\n",
    "\n",
    "# Создание боксплота\n",
    "fig, ax = plt.subplots()\n",
    "bp = ax.boxplot([data0, data1], patch_artist=True)\n",
    "\n",
    "# Добавлю название гистограмме и ее осям\n",
    "plt.title('Количество активностей на пользователя')\n",
    "plt.xlabel('Группа')\n",
    "plt.ylabel('Количество')\n",
    "\n",
    "# Подпись значений квартилей, усов и выбросов для каждой группы\n",
    "for i, group_data in enumerate([data0, data1], start=0):\n",
    "    \n",
    "    quartiles = np.percentile(group_data, [25, 50, 75])\n",
    "    \n",
    "    # Подписи квартилей (25, 50, 75)\n",
    "    for q in quartiles:\n",
    "        ax.annotate(f'{q:.0f}', xy=(i + 1.075, q), xytext=(i + 1.2, q),\n",
    "                    arrowprops=dict(arrowstyle='->', color='black'),\n",
    "                    fontsize=10, color='black')\n",
    "\n",
    "    \n",
    "    # Максимальное и минимальное значение в группе\n",
    "    max_val = np.max(group_data)\n",
    "    min_val = np.min(group_data)\n",
    "\n",
    "    # Значения усов (верхний и нижний)\n",
    "    lower_whiskers =  bp['whiskers'][2 * i].get_ydata()[1]\n",
    "    upper_whiskers = bp['whiskers'][2 * i + 1].get_ydata()[1]  \n",
    "    \n",
    "    # Подписи выбросов (максимальных и минимальных)\n",
    "    if max_val != upper_whiskers:\n",
    "        ax.annotate(f'{max_val:.0f}', xy=(i + 1, max_val), xytext=(i + 1.2, max_val),\n",
    "                    arrowprops=dict(arrowstyle='->', color='black'),\n",
    "                    fontsize=10, color='black')\n",
    "    if min_val != lower_whiskers:\n",
    "        ax.annotate(f'{min_val:.0f}', xy=(i + 1, min_val), xytext=(i + 1.2, min_val),\n",
    "                    arrowprops=dict(arrowstyle='->', color='black'),\n",
    "                    fontsize=10, color='black')    \n",
    "   \n",
    "    # Подписи усов (верхний и нижний)\n",
    "    ax.annotate(f'{lower_whiskers:.0f}', xy=(i + 1.035, lower_whiskers), xytext=(i + 1.2, lower_whiskers),\n",
    "            arrowprops=dict(arrowstyle='->', color='black'),\n",
    "            fontsize=10, color='black')\n",
    "    ax.annotate(f'{upper_whiskers:.0f}', xy=(i + 1.035, upper_whiskers), xytext=(i + 1.2, upper_whiskers),\n",
    "            arrowprops=dict(arrowstyle='->', color='black'),\n",
    "            fontsize=10, color='black')\n",
    "\n",
    "# Настройка меток осей\n",
    "ax.set_xticklabels(['0 — контрольная', '1 — экспериментальная'])\n",
    "plt.show()\n",
    "\n",
    "print(\"\\033[1mВидно, что в экспериментальной группе количество активностей на пользователя существенно больше чем в контрольной группе. \\033[0m\")"
   ]
  },
  {
   "cell_type": "markdown",
   "metadata": {},
   "source": [
    "## Тесты"
   ]
  },
  {
   "cell_type": "markdown",
   "metadata": {},
   "source": [
    "### Проверка нормальности распределения данных при помощи **pg.normality**  \n",
    "\n",
    "**<u>Определю гипотезы:</u>**  \n",
    "* H0: значения из колонки activity_total распределены нормально  \n",
    "* H1: распределение значений из колонки activity_total является ненормальным"
   ]
  },
  {
   "cell_type": "code",
   "execution_count": 24,
   "metadata": {},
   "outputs": [
    {
     "data": {
      "text/html": [
       "<div>\n",
       "<style scoped>\n",
       "    .dataframe tbody tr th:only-of-type {\n",
       "        vertical-align: middle;\n",
       "    }\n",
       "\n",
       "    .dataframe tbody tr th {\n",
       "        vertical-align: top;\n",
       "    }\n",
       "\n",
       "    .dataframe thead th {\n",
       "        text-align: right;\n",
       "    }\n",
       "</style>\n",
       "<table border=\"1\" class=\"dataframe\">\n",
       "  <thead>\n",
       "    <tr style=\"text-align: right;\">\n",
       "      <th></th>\n",
       "      <th>W</th>\n",
       "      <th>pval</th>\n",
       "      <th>normal</th>\n",
       "    </tr>\n",
       "    <tr>\n",
       "      <th>group</th>\n",
       "      <th></th>\n",
       "      <th></th>\n",
       "      <th></th>\n",
       "    </tr>\n",
       "  </thead>\n",
       "  <tbody>\n",
       "    <tr>\n",
       "      <th>1</th>\n",
       "      <td>0.319658</td>\n",
       "      <td>0.852289</td>\n",
       "      <td>True</td>\n",
       "    </tr>\n",
       "    <tr>\n",
       "      <th>0</th>\n",
       "      <td>5.214400</td>\n",
       "      <td>0.073741</td>\n",
       "      <td>True</td>\n",
       "    </tr>\n",
       "  </tbody>\n",
       "</table>\n",
       "</div>"
      ],
      "text/plain": [
       "              W      pval  normal\n",
       "group                            \n",
       "1      0.319658  0.852289    True\n",
       "0      5.214400  0.073741    True"
      ]
     },
     "execution_count": 24,
     "metadata": {},
     "output_type": "execute_result"
    }
   ],
   "source": [
    "pg.normality(data=user_statistics_df, dv='activity_total', group='group', method='normaltest')"
   ]
  },
  {
   "cell_type": "markdown",
   "metadata": {},
   "source": [
    "#### Вывод\n",
    "Значения p-value в обеих группах больше альфа-уровня (0.05). Это означает то, что у меня имеется достаточно оснований, что бы принять H0.<br>\n",
    "**Принимаю H0**, распределение значений колонки activity_total является нормальным."
   ]
  },
  {
   "cell_type": "markdown",
   "metadata": {},
   "source": [
    "### Проверка данных на нормальность и гомогенность (гомоскедастичность) дисперсии  \n",
    "\n",
    "Для проверки равенства дисперсий в группах воспользуюсь тестом Левина \n",
    "\n",
    "**<u>Определю гипотезы:</u>**  \n",
    "* H0: дисперсии между группами можно считать однородными\n",
    "* H1: дисперсии между группами значимо различаются"
   ]
  },
  {
   "cell_type": "code",
   "execution_count": 25,
   "metadata": {},
   "outputs": [
    {
     "name": "stdout",
     "output_type": "stream",
     "text": [
      "\n",
      "    Функция проверяет тяжесть хвоста\n",
      "    \n",
      "    Аргументы\n",
      "    ----------\n",
      "    * data: значения которые требуется проверить\n",
      "    * alpha: альфа-уровнь, по умолчанию равен 0.05\n",
      "    \n"
     ]
    }
   ],
   "source": [
    "def check_tail_heaviness(data, alpha=0.05):\n",
    "    '''\n",
    "    Функция проверяет тяжесть хвоста\n",
    "    \n",
    "    Аргументы\n",
    "    ----------\n",
    "    * data: значения которые требуется проверить\n",
    "    * alpha: альфа-уровнь, по умолчанию равен 0.05\n",
    "    '''\n",
    "    ks_stat, ks_p = stats.kstest(data, 'norm')\n",
    "    if ks_p < alpha:\n",
    "        print(f'\\033[1m Данные имеют тяжелый хвост, p-value: {ks_p} \\033[0m')\n",
    "    else:\n",
    "        print(f'\\033[1m Данные имеют легкий хвост, p-value: {ks_p} \\033[0m')\n",
    "print(check_tail_heaviness.__doc__)"
   ]
  },
  {
   "cell_type": "code",
   "execution_count": 26,
   "metadata": {},
   "outputs": [
    {
     "name": "stdout",
     "output_type": "stream",
     "text": [
      "\u001b[1m Данные имеют тяжелый хвост, p-value: 0.0 \u001b[0m\n"
     ]
    }
   ],
   "source": [
    "# Воспользуюсь функцией check_tail_heaviness для определения типа хвоста (тяжелый/легкий) \n",
    "check_tail_heaviness(user_statistics_df['activity_total'])"
   ]
  },
  {
   "cell_type": "code",
   "execution_count": 27,
   "metadata": {},
   "outputs": [
    {
     "name": "stdout",
     "output_type": "stream",
     "text": [
      "\u001b[1mСтатистика = 20.52, p-value = 6.710739983967394e-06\u001b[0m\n"
     ]
    }
   ],
   "source": [
    "# Сравню дисперсии тестом Левина. Параметр center='trimmed' — рекомендуется для распределений с тяжелыми хвостами\n",
    "test_stat, pvalue = stats.levene(user_statistics_df[user_statistics_df.group == 0].activity_total, user_statistics_df[user_statistics_df.group == 1].activity_total, center='trimmed')\n",
    "if pvalue > 0.05:\n",
    "    print(f\"\\033[1mСтатистика = {round(test_stat, 2)}, p-value = {pvalue}\\033[0m\")\n",
    "else:\n",
    "    print(f\"\\033[1mСтатистика = {round(test_stat, 2)}, p-value = {pvalue}\\033[0m\")"
   ]
  },
  {
   "cell_type": "markdown",
   "metadata": {},
   "source": [
    "#### Вывод  \n",
    "Значение p-value меньше альфа-уровня (0.05). Это означает то, что у меня не имеется достаточно оснований, что бы принять H0.<br>\n",
    "**Принимаю H1**, дисперсии не равны."
   ]
  },
  {
   "cell_type": "markdown",
   "metadata": {},
   "source": [
    "### Вовод по результатам тестов и визуальному анализу  \n",
    "Исходя из предварительного анализа, результатов теста на нормальность и гомогенность дисперсий можно использовать t-test с поправкой Уэлча, применяется в случае неравных дисперсий. Особенно поправка важна, если размеры двух выборок сильно различаются. В остальном все как у обычного т-теста — если выборки большие, нормальность становится не так уж важна (в силу разных теорем, в том числе ЦПТ)."
   ]
  },
  {
   "cell_type": "markdown",
   "metadata": {},
   "source": [
    "## Welch’s t-test\n",
    "**Тип данных:** количественный, дискретный  \n",
    "**Целевая метрика:** среднее количество активностей на пользователя  \n",
    "\n",
    "**<u>Определю гипотезы:</u>**  \n",
    "* H0 - между контрольной и экспериментальной группой нет никакой статистически значимой разницы в среднем количестве активностей на пользователя<br>\n",
    "* H1 - наблюдаемый эффект это результат внедрения в приложение нового алгоритма, разница статистически значима"
   ]
  },
  {
   "cell_type": "code",
   "execution_count": 28,
   "metadata": {},
   "outputs": [
    {
     "data": {
      "text/plain": [
       "TtestResult(statistic=-62.81020734004636, pvalue=0.0, df=952.8731865785683)"
      ]
     },
     "execution_count": 28,
     "metadata": {},
     "output_type": "execute_result"
    }
   ],
   "source": [
    "stats.ttest_ind(user_statistics_df[user_statistics_df.group == 0].activity_total, user_statistics_df[user_statistics_df.group == 1].activity_total, equal_var = False)"
   ]
  },
  {
   "cell_type": "markdown",
   "metadata": {},
   "source": [
    "### Вывод  \n",
    "p-value меньше альфа-уровня (0.05). Это означает то, что у меня имеется достаточно оснований, что бы отвергнуть H0 и **принять H1**.  \n",
    "Делаю вывод, что разница между средним количеством активностей на пользователя в каждой группе статистически значима и является результатом внедрения нового алгоритма поиска анкет."
   ]
  },
  {
   "cell_type": "markdown",
   "metadata": {},
   "source": [
    "# Заключение  \n",
    "После анализа и проведенных статистических тестов, можно сделать вывод, что в результате внедрения нового алгоритма поиска анкет в экспериментальной группе повысилось количество активностей на пользователя и частота случившихся мэтчей. Можно раскатывать новый алгоритм поиска анкет на всех пользователей."
   ]
  }
 ],
 "metadata": {
  "kernelspec": {
   "display_name": "Python 3 (ipykernel)",
   "language": "python",
   "name": "python3"
  },
  "language_info": {
   "codemirror_mode": {
    "name": "ipython",
    "version": 3
   },
   "file_extension": ".py",
   "mimetype": "text/x-python",
   "name": "python",
   "nbconvert_exporter": "python",
   "pygments_lexer": "ipython3",
   "version": "3.11.5"
  }
 },
 "nbformat": 4,
 "nbformat_minor": 4
}
